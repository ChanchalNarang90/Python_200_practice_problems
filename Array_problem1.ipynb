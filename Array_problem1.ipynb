{
 "cells": [
  {
   "cell_type": "code",
   "execution_count": 1,
   "id": "84ab56c8-0648-4fa0-ba04-d64a4df8bab7",
   "metadata": {},
   "outputs": [],
   "source": [
    "\n",
    "def create_substring(s,l):\n",
    "    result=l\n",
    "    given_str=list(s)\n",
    "    for el in given_str :\n",
    "        if len(result)==0:\n",
    "           result.append(el)\n",
    "        else:         \n",
    "         if el in result[:] :\n",
    "            print('duplicate',el)\n",
    "         else:\n",
    "              result.append(el)\n",
    "                \n",
    "    return result"
   ]
  },
  {
   "cell_type": "code",
   "execution_count": 2,
   "id": "6a1de3b4-b55f-4c40-ba8b-6bbdef616122",
   "metadata": {},
   "outputs": [
    {
     "name": "stdout",
     "output_type": "stream",
     "text": [
      "duplicate a\n",
      "duplicate b\n",
      "duplicate c\n",
      "duplicate b\n",
      "duplicate b\n",
      "duplicate b\n",
      "duplicate b\n",
      "duplicate b\n",
      "duplicate b\n",
      "duplicate w\n",
      "duplicate w\n",
      "abclength: 3\n",
      "blength: 1\n",
      "pwkelength: 4\n"
     ]
    }
   ],
   "source": [
    "v1='abcabcbb'\n",
    "v2='bbbbb'\n",
    "v3='pwwkew'\n",
    "\n",
    "final_substring1=create_substring(v1,[])\n",
    "final_substring2=create_substring(v2,[])\n",
    "final_substring3=create_substring(v3,[])\n",
    "length1=len(final_substring1)\n",
    "length2=len(final_substring2)\n",
    "length3=len(final_substring3)\n",
    "for char in final_substring1:\n",
    "  print(char,end='')\n",
    "print('length:', length1)\n",
    "for char in final_substring2:\n",
    "  print(char,end='')\n",
    "print('length:', length2)\n",
    "for char in final_substring3:\n",
    "  print(char,end='')\n",
    "print('length:', length3)\n",
    "#print(final_substring2)\n",
    "#print()\n",
    "#print(final_substring3)\n"
   ]
  },
  {
   "cell_type": "code",
   "execution_count": null,
   "id": "cb0521f1-3bab-4cc1-ba65-93c4188788ac",
   "metadata": {},
   "outputs": [],
   "source": []
  }
 ],
 "metadata": {
  "kernelspec": {
   "display_name": "Python 3 (ipykernel)",
   "language": "python",
   "name": "python3"
  },
  "language_info": {
   "codemirror_mode": {
    "name": "ipython",
    "version": 3
   },
   "file_extension": ".py",
   "mimetype": "text/x-python",
   "name": "python",
   "nbconvert_exporter": "python",
   "pygments_lexer": "ipython3",
   "version": "3.11.4"
  },
  "widgets": {
   "application/vnd.jupyter.widget-state+json": {
    "state": {},
    "version_major": 2,
    "version_minor": 0
   }
  }
 },
 "nbformat": 4,
 "nbformat_minor": 5
}
