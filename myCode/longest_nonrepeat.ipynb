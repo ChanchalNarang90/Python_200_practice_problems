{
 "cells": [
  {
   "cell_type": "code",
   "execution_count": 22,
   "metadata": {},
   "outputs": [],
   "source": [
    "import pandas as pd"
   ]
  },
  {
   "cell_type": "code",
   "execution_count": 23,
   "metadata": {},
   "outputs": [],
   "source": [
    "\n",
    "def norepeat(s,value):\n",
    "  print(s,value)\n",
    "  result=value\n",
    "  if len(s)!=0:\n",
    "    for el in s :\n",
    "      if el in value :\n",
    "        print('duplicate')\n",
    "      else:\n",
    "        \n",
    "        result.append(el)\n",
    "  print('final:')\n",
    "  for ch in result:\n",
    "    print(ch,end='')\n",
    "  print(' ','length:',len(result))  "
   ]
  },
  {
   "cell_type": "code",
   "execution_count": 24,
   "metadata": {},
   "outputs": [
    {
     "name": "stdout",
     "output_type": "stream",
     "text": [
      "abcabcbb []\n",
      "duplicate\n",
      "duplicate\n",
      "duplicate\n",
      "duplicate\n",
      "duplicate\n",
      "final:\n",
      "abc  length: 3\n",
      "bbbbb []\n",
      "duplicate\n",
      "duplicate\n",
      "duplicate\n",
      "duplicate\n",
      "final:\n",
      "b  length: 1\n",
      "pwwkew []\n",
      "duplicate\n",
      "duplicate\n",
      "final:\n",
      "pwke  length: 4\n"
     ]
    }
   ],
   "source": [
    "S1='abcabcbb'\n",
    "S2='bbbbb'\n",
    "S3='pwwkew'\n",
    "value=[]\n",
    "norepeat(S1, [])\n",
    "norepeat(S2, [])\n",
    "norepeat(S3, [])"
   ]
  }
 ],
 "metadata": {
  "kernelspec": {
   "display_name": "base",
   "language": "python",
   "name": "python3"
  },
  "language_info": {
   "codemirror_mode": {
    "name": "ipython",
    "version": 3
   },
   "file_extension": ".py",
   "mimetype": "text/x-python",
   "name": "python",
   "nbconvert_exporter": "python",
   "pygments_lexer": "ipython3",
   "version": "3.11.5"
  }
 },
 "nbformat": 4,
 "nbformat_minor": 2
}
